{
 "cells": [
  {
   "cell_type": "markdown",
   "id": "fc454870-18ca-4dba-a266-eb180957e9fe",
   "metadata": {
    "tags": []
   },
   "source": [
    "# Introducción a los Mercados de Futuros y Opciones\n",
    "\n",
    "## Contenidos\n",
    "1. [Introducción a los Contratos de Futuros](#section1)\n",
    "2. [Mecánica de los Contratos de Futuros](#section2)\n",
    "3. [Determinación de Precios de Futuros](#section3)\n",
    "4. [Ejemplos de Contango y Backwardation](#section4)\n",
    "5. [Estrategias de Cobertura](#section5)\n",
    "6. [Ejemplos con Tasas de Interés](#section6)\n",
    "\n",
    "<a id='section1'></a>\n",
    "## 1. Introducción a los Contratos de Futuros\n",
    "\n",
    "Los contratos de futuros son acuerdos estandarizados para comprar o vender un activo en una fecha futura a un precio pactado hoy. El activo subyacente puede ser una mercancía, índice, moneda o tasa de interés. Se negocian en bolsas organizadas, lo que reduce el riesgo de incumplimiento.\n",
    "\n",
    "### Características principales:\n",
    "- **Estandarización**: El contrato tiene términos fijos (cantidad, calidad, fecha).\n",
    "- **Apalancamiento**: Se requiere solo una fracción del valor total (margen).\n",
    "- **Fecha de entrega**: El activo se intercambia en una fecha futura acordada.\n",
    "\n",
    "### Actores clave:\n",
    "- **Coberturistas**: Buscan mitigar riesgos de precio.\n",
    "- **Especuladores**: Apuestan a la dirección futura del mercado.\n",
    "- **Arbitrajistas**: Aprovechan diferencias de precios entre mercados.\n",
    "\n",
    "### Cálculo de precios a plazo (futuros)\n",
    "El precio de un contrato de futuros se determina utilizando la fórmula de costo de acarreo:\n",
    "\n",
    "\n",
    "$$F_0 = S_0 e^{rT}$$\n",
    "\n",
    "\n",
    "Donde:\n",
    "- $ F_0 $: Precio del futuro\n",
    "- $ S_0 $: Precio spot del activo subyacente\n",
    "- $ r $: Tasa libre de riesgo\n",
    "- $ T $: Tiempo hasta la entrega (en años)\n",
    "\n",
    "<a id='section2'></a>\n",
    "## 2. Mecánica de los Contratos de Futuros\n",
    "\n",
    "El funcionamiento de los contratos de futuros implica la operación de márgenes, donde tanto compradores como vendedores depositan una fracción del valor del contrato (margen inicial). A diario, las cuentas son ajustadas según el movimiento del precio de los futuros, proceso conocido como **liquidación diaria**.\n",
    "\n",
    "### Margen de mantenimiento y variación diaria\n",
    "El margen de mantenimiento es la cantidad mínima que se debe mantener en la cuenta. Si el saldo cae por debajo de este valor debido a pérdidas, el operador recibe una **llamada de margen**.\n"
   ]
  },
  {
   "cell_type": "code",
   "execution_count": 2,
   "id": "3a60bdc4-a3c7-4d0b-9a72-438ea28896a8",
   "metadata": {
    "tags": []
   },
   "outputs": [
    {
     "data": {
      "text/plain": [
       "1500.0"
      ]
     },
     "execution_count": 2,
     "metadata": {},
     "output_type": "execute_result"
    }
   ],
   "source": [
    "#Ejemplo margen\n",
    "precio_futuro = 150  # precio del contrato futuro\n",
    "tamaño_contrato = 100  # unidades por contrato\n",
    "margen_inicial = 0.10  # 10% de margen inicial\n",
    "margen = precio_futuro * tamaño_contrato * margen_inicial\n",
    "margen\n"
   ]
  },
  {
   "cell_type": "markdown",
   "id": "b59643e2-5029-4a3d-8c6c-7562485b0664",
   "metadata": {
    "tags": []
   },
   "source": [
    "<a id='section3'></a>\n",
    "## 3. Determinación de Precios de Futuros\n",
    "\n",
    "De acuerdo con la teoría de costos de acarreo, el precio de un contrato a plazo depende del precio spot actual del activo subyacente, los costos de financiamiento, y los ingresos que puede generar el activo.\n",
    "\n",
    "### Fórmula general para contratos que no pagan dividendos:\n",
    "\n",
    "\n",
    "$F_0 = S_0 e^{rT}$\n",
    "\n",
    "\n",
    "Para activos que **pagan dividendos o generan ingresos** (como commodities), se debe ajustar por el costo o ingreso que generan:\n",
    "\n",
    "\n",
    "$F_0 = (S_0 - I) e^{rT}$\n",
    "\n",
    "Donde $I$ es el valor presente de los dividendos o ingresos esperados durante la vida del contrato.\n"
   ]
  },
  {
   "cell_type": "markdown",
   "id": "b0bc1582-8315-4344-8da7-a6ed3f55170c",
   "metadata": {
    "tags": []
   },
   "source": [
    "<a id='section4'></a>\n",
    "## 4. Ejemplos de Contango y Backwardation\n",
    "\n",
    "**Contango** ocurre cuando el precio del futuro es mayor que el precio spot esperado, mientras que **backwardation** ocurre cuando el precio del futuro es menor que el precio spot esperado. Estas condiciones dependen de las expectativas del mercado sobre la oferta y demanda del activo subyacente y de los costos de acarreo.\n"
   ]
  },
  {
   "cell_type": "code",
   "execution_count": 12,
   "id": "3841624b-45de-44d8-aa23-d0bfc0dce3a4",
   "metadata": {
    "tags": []
   },
   "outputs": [
    {
     "name": "stdout",
     "output_type": "stream",
     "text": [
      "El mercado está en contango. El precio futuro calculado es 105.0 USD, que es mayor que el precio spot esperado de 102 USD.\n"
     ]
    }
   ],
   "source": [
    "# Definimos los parámetros\n",
    "precio_spot = 100  # Precio spot del activo en USD\n",
    "tasa_interes = 0.05  # Tasa de interés libre de riesgo (5%)\n",
    "tiempo = 1  # Tiempo en años\n",
    "precio_futuro = precio_spot * (1 + tasa_interes * tiempo)  # Cálculo del precio futuro usando la tasa de interés\n",
    "\n",
    "# Suponemos un precio spot esperado en el futuro\n",
    "precio_spot_esperado = 102  # Precio spot esperado en el futuro\n",
    "\n",
    "# Determinamos si es contango o backwardation\n",
    "if precio_futuro > precio_spot_esperado:\n",
    "    print(f\"El mercado está en contango. El precio futuro calculado es {precio_futuro} USD, que es mayor que el precio spot esperado de {precio_spot_esperado} USD.\")\n",
    "elif precio_futuro < precio_spot_esperado:\n",
    "    print(f\"El mercado está en backwardation. El precio futuro calculado es {precio_futuro} USD, que es menor que el precio spot esperado de {precio_spot_esperado} USD.\")\n",
    "else:\n",
    "    print(f\"El mercado está en equilibrio. El precio futuro calculado es {precio_futuro} USD, que es igual al precio spot esperado de {precio_spot_esperado} USD.\")\n"
   ]
  },
  {
   "cell_type": "markdown",
   "id": "df6452bf-b7c0-4aa7-991e-58b6526bde61",
   "metadata": {},
   "source": [
    "<a id='section2'></a>\n",
    "## 5. Estrategias de Cobertura\n",
    "\n",
    "Los contratos de futuros permiten la cobertura del riesgo de movimientos adversos en los precios. Los coberturistas pueden tomar posiciones largas o cortas según su exposición.\n",
    "\n",
    "1. **Cobertura Larga (Long Hedge)**: \n",
    "   Se utiliza cuando un inversionista o empresa espera comprar un activo en el futuro y quiere asegurarse de que el precio no aumente. Tomar una posición larga en contratos de futuros permite bloquear un precio fijo, protegiéndose de aumentos en el precio del activo subyacente.\n",
    "\n",
    "   - Ejemplo: Un inversionista planea comprar petróleo en seis meses y teme que el precio aumente. Toma una posición larga en contratos de futuros para asegurar un precio actual y evitar riesgos de subidas de precios.\n",
    "-\n",
    "\n",
    "2. **Cobertura Corta (Short Hedge)**: \n",
    "   Es utilizada por productores o tenedores de activos que esperan vender en el futuro y desean protegerse contra la caída de los precios. Al tomar una posición corta en futuros, se asegura un precio de venta, evitando pérdidas potenciales si el precio del activo disminuye.\n",
    "\n",
    "   - Ejemplo: Un agricultor que planea vender trigo en seis meses y teme que los precios caigan puede tomar una posición corta en futuros sobre trigo, bloqueando un precio actual.\n",
    "\n",
    "### **Riesgo base**: \n",
    "Es la diferencia entre el precio spot y el precio de futuros. Una cobertura perfecta es aquella en la que esta diferencia es mínima, pero en la realidad, las coberturas pueden ser imperfectas debido a las variaciones del riesgo base.\n",
    "\n",
    "\n",
    "### Cobertura Larga:\n",
    "Un inversionista que espera comprar un activo en el futuro puede tomar una **posición larga** en futuros para asegurarse el precio.\n",
    "\n",
    "### Cobertura Corta:\n",
    "Un productor que espera vender un activo puede tomar una **posición corta** en futuros para fijar el precio de venta.\n"
   ]
  },
  {
   "cell_type": "code",
   "execution_count": 13,
   "id": "8e200ce3-a3fb-491a-a3e3-8e97cbb8efac",
   "metadata": {
    "tags": []
   },
   "outputs": [
    {
     "name": "stdout",
     "output_type": "stream",
     "text": [
      "### Ejemplo de Cobertura Corta ###\n",
      "Cobertura Corta: El productor espera vender un activo en el futuro.\n",
      "Ejemplo: El productor toma una posición corta en futuros para vender 1000 barriles de petróleo.\n",
      "Con un precio futuro de 70 USD/barril, el valor del contrato es 70000 USD.\n",
      "\n",
      "### Ejemplo de Cobertura Larga ###\n",
      "Cobertura Larga: El inversionista espera comprar un activo en el futuro.\n",
      "Ejemplo: El inversionista toma una posición larga en futuros para asegurar la compra de 1000 barriles de petróleo.\n",
      "El precio spot actual es 72 USD/barril y el precio futuro acordado es 75 USD/barril.\n",
      "Valor actual (spot): 72000 USD.\n",
      "Valor futuro (futuros): 75000 USD.\n",
      "El precio futuro es mayor al spot actual, se espera un aumento en los precios. La cobertura protege contra este aumento.\n"
     ]
    }
   ],
   "source": [
    "# Función para explicar cobertura larga y corta, con ejemplos concisos\n",
    "def explicar_cobertura(tipo_cobertura, precio_futuro, cantidad, precio_spot=None):\n",
    "    \"\"\"\n",
    "    Esta función explica y calcula la cobertura larga o corta.\n",
    "    \n",
    "    Parámetros:\n",
    "    tipo_cobertura: str - \"larga\" o \"corta\"\n",
    "    precio_futuro: float - El precio del contrato futuro\n",
    "    cantidad: int - La cantidad de unidades (e.g. barriles)\n",
    "    precio_spot: float (opcional) - El precio spot del activo, solo para la cobertura larga\n",
    "    \n",
    "    Retorna:\n",
    "    Explicación y cálculo del valor del contrato futuro o la ganancia/perdida de la cobertura.\n",
    "    \"\"\"\n",
    "    \n",
    "    if tipo_cobertura == \"corta\":\n",
    "        print(\"Cobertura Corta: El productor espera vender un activo en el futuro.\")\n",
    "        print(f\"Ejemplo: El productor toma una posición corta en futuros para vender {cantidad} barriles de petróleo.\")\n",
    "        valor_futuro = precio_futuro * cantidad\n",
    "        print(f\"Con un precio futuro de {precio_futuro} USD/barril, el valor del contrato es {valor_futuro} USD.\")\n",
    "    \n",
    "    elif tipo_cobertura == \"larga\":\n",
    "        if precio_spot is None:\n",
    "            print(\"Error: Para una cobertura larga, se necesita el precio spot actual.\")\n",
    "            return\n",
    "        \n",
    "        print(\"Cobertura Larga: El inversionista espera comprar un activo en el futuro.\")\n",
    "        print(f\"Ejemplo: El inversionista toma una posición larga en futuros para asegurar la compra de {cantidad} barriles de petróleo.\")\n",
    "        print(f\"El precio spot actual es {precio_spot} USD/barril y el precio futuro acordado es {precio_futuro} USD/barril.\")\n",
    "        \n",
    "        valor_actual = precio_spot * cantidad\n",
    "        valor_futuro = precio_futuro * cantidad\n",
    "        print(f\"Valor actual (spot): {valor_actual} USD.\")\n",
    "        print(f\"Valor futuro (futuros): {valor_futuro} USD.\")\n",
    "        \n",
    "        if precio_futuro > precio_spot:\n",
    "            print(\"El precio futuro es mayor al spot actual, se espera un aumento en los precios. La cobertura protege contra este aumento.\")\n",
    "        elif precio_futuro < precio_spot:\n",
    "            print(\"El precio futuro es menor al spot actual, el inversionista podría beneficiarse de precios más bajos en el futuro.\")\n",
    "\n",
    "# Ejemplo de Cobertura Corta\n",
    "print(\"### Ejemplo de Cobertura Corta ###\")\n",
    "explicar_cobertura(tipo_cobertura=\"corta\", precio_futuro=70, cantidad=1000)\n",
    "\n",
    "print(\"\\n### Ejemplo de Cobertura Larga ###\")\n",
    "# Ejemplo de Cobertura Larga\n",
    "explicar_cobertura(tipo_cobertura=\"larga\", precio_futuro=75, cantidad=1000, precio_spot=72)\n"
   ]
  },
  {
   "cell_type": "markdown",
   "id": "d3167d89-f722-42d3-a8e9-18bda87d7cbd",
   "metadata": {
    "tags": []
   },
   "source": [
    "<a id='section6'></a>\n",
    "## 6. Ejemplos con Tasas de Interés\n",
    "\n",
    "### Contrato a plazo sobre una acción sin dividendos\n",
    "\n",
    "Dado:\n",
    "- Precio spot de la acción: $ S_0 = 30 \\, \\text{\\$} $\n",
    "- Tasa de interés libre de riesgo: $ r = 0.12 $\n",
    "- Tiempo hasta el vencimiento: $ T = 0.5 \\, \\text{años} $\n",
    "\n",
    "El precio del contrato a plazo será:\n",
    "\n",
    "\n",
    "$F_0 = 30e^{0.12 \\times 0.5}$\n",
    "\n"
   ]
  },
  {
   "cell_type": "code",
   "execution_count": 15,
   "id": "fc9309dd-f24f-444c-9e9e-d5bfb07f6275",
   "metadata": {
    "tags": []
   },
   "outputs": [
    {
     "data": {
      "text/plain": [
       "31.85509639636079"
      ]
     },
     "execution_count": 15,
     "metadata": {},
     "output_type": "execute_result"
    }
   ],
   "source": [
    "import numpy as np\n",
    "S0 = 30\n",
    "r = 0.12\n",
    "T = 0.5\n",
    "F0 = S0 * np.exp(r * T)\n",
    "F0\n"
   ]
  },
  {
   "cell_type": "markdown",
   "id": "445bcb47-92c6-4423-bd13-94e0af5310a2",
   "metadata": {
    "tags": []
   },
   "source": [
    "### Resumen Capítulo 5: Determinación del Precio de los Contratos a Plazo y Futuros\n",
    "\n",
    "Este capítulo se centra en la determinación del precio de los contratos a plazo y futuros, basándose en los costos de acarreo, que incluyen aspectos como el precio spot del activo subyacente, los costos de financiamiento y los ingresos potenciales generados por el activo. Las fórmulas clave para determinar el precio de futuros son:\n",
    "\n",
    "#### Contratos sin dividendos o ingresos:\n",
    "\n",
    "\n",
    "$$F_0 = S_0 e^{rT}$$\n",
    "\n",
    "\n",
    "Donde $(S_0$) es el precio spot actual, $(r$) es la tasa de interés libre de riesgo y $(T$) es el tiempo hasta el vencimiento.\n",
    "\n",
    "#### Contratos con activos que generan ingresos (como commodities que generan dividendos):\n",
    "\n",
    "$F_0 = (S_0 - I)e^{rT}$\n",
    "\n",
    "Donde $(I$) representa los ingresos generados durante el contrato, como los dividendos o ingresos por almacenamiento.\n",
    "\n",
    "Además, se discute cómo el riesgo sistemático influye en el precio de futuros. En particular, si el activo subyacente tiene una correlación positiva con el mercado de acciones, el precio del contrato de futuros tenderá a ser más bajo que el precio spot futuro esperado. Si la correlación es negativa, el precio de futuros puede ser mayor.\n"
   ]
  }
 ],
 "metadata": {
  "kernelspec": {
   "display_name": "Python 3 (ipykernel)",
   "language": "python",
   "name": "python3"
  },
  "language_info": {
   "codemirror_mode": {
    "name": "ipython",
    "version": 3
   },
   "file_extension": ".py",
   "mimetype": "text/x-python",
   "name": "python",
   "nbconvert_exporter": "python",
   "pygments_lexer": "ipython3",
   "version": "3.11.5"
  }
 },
 "nbformat": 4,
 "nbformat_minor": 5
}
